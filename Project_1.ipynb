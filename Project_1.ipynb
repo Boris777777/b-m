{
 "cells": [
  {
   "cell_type": "code",
   "execution_count": 1,
   "metadata": {},
   "outputs": [],
   "source": [
    "import pandas as pd\n",
    "from operator import attrgetter\n",
    "import numpy as np\n",
    "%matplotlib inline\n",
    "import matplotlib.pyplot as plt\n",
    "import seaborn as sns\n",
    "import os\n",
    "import plotly.express as px\n",
    "from scipy.stats import ttest_ind, mannwhitneyu\n",
    "import statistics\n",
    "from scipy.stats import levene\n",
    "from scipy.stats import shapiro\n",
    "import statsmodels.api as sm\n",
    "from statsmodels.stats.proportion import proportions_ztest\n",
    "import scipy.stats as ss\n",
    "import requests\n",
    "from urllib.parse import urlencode"
   ]
  },
  {
   "cell_type": "code",
   "execution_count": 2,
   "metadata": {},
   "outputs": [],
   "source": [
    "groups_url= 'https://disk.yandex.ru/d/ikDG0MCAKjGFBg'\n",
    "groups_add_url =  'https://disk.yandex.ru/d/tzsY5SFQK7zgLQ'\n",
    "active_studs_url = 'https://disk.yandex.ru/d/BwX_z0xhTkJFSg'\n",
    "checks_url = 'https://disk.yandex.ru/d/rPdOuisNRQoI5Q'"
   ]
  },
  {
   "cell_type": "code",
   "execution_count": 3,
   "metadata": {},
   "outputs": [],
   "source": [
    "def ydisk(public_key: str) -> str:\n",
    "    base_url = 'https://cloud-api.yandex.net/v1/disk/public/resources/download?'\n",
    "    final_url = base_url + urlencode(dict(public_key=public_key))\n",
    "    response = requests.get(final_url)\n",
    "    download_url = response.json()['href']\n",
    "    return download_url"
   ]
  },
  {
   "cell_type": "code",
   "execution_count": 4,
   "metadata": {},
   "outputs": [],
   "source": [
    "groups = pd.read_csv(ydisk(groups_url), sep=';')# Информация о группах\n",
    "group_add = pd.read_csv(ydisk(groups_add_url)) # Дополнительная информация о группах\n",
    "active_studs = pd.read_csv(ydisk(active_studs_url)) # Активные пользователи\n",
    "checks = pd.read_csv(ydisk(checks_url), sep=';')# Информация об оплатах"
   ]
  },
  {
   "cell_type": "code",
   "execution_count": 5,
   "metadata": {},
   "outputs": [
    {
     "data": {
      "text/html": [
       "<div>\n",
       "<style scoped>\n",
       "    .dataframe tbody tr th:only-of-type {\n",
       "        vertical-align: middle;\n",
       "    }\n",
       "\n",
       "    .dataframe tbody tr th {\n",
       "        vertical-align: top;\n",
       "    }\n",
       "\n",
       "    .dataframe thead th {\n",
       "        text-align: right;\n",
       "    }\n",
       "</style>\n",
       "<table border=\"1\" class=\"dataframe\">\n",
       "  <thead>\n",
       "    <tr style=\"text-align: right;\">\n",
       "      <th></th>\n",
       "      <th>id</th>\n",
       "      <th>revenue</th>\n",
       "    </tr>\n",
       "  </thead>\n",
       "  <tbody>\n",
       "    <tr>\n",
       "      <th>0</th>\n",
       "      <td>1627</td>\n",
       "      <td>990.0</td>\n",
       "    </tr>\n",
       "    <tr>\n",
       "      <th>1</th>\n",
       "      <td>3185</td>\n",
       "      <td>690.0</td>\n",
       "    </tr>\n",
       "    <tr>\n",
       "      <th>2</th>\n",
       "      <td>25973</td>\n",
       "      <td>690.0</td>\n",
       "    </tr>\n",
       "    <tr>\n",
       "      <th>3</th>\n",
       "      <td>26280</td>\n",
       "      <td>690.0</td>\n",
       "    </tr>\n",
       "    <tr>\n",
       "      <th>4</th>\n",
       "      <td>100300</td>\n",
       "      <td>990.0</td>\n",
       "    </tr>\n",
       "    <tr>\n",
       "      <th>...</th>\n",
       "      <td>...</td>\n",
       "      <td>...</td>\n",
       "    </tr>\n",
       "    <tr>\n",
       "      <th>536</th>\n",
       "      <td>5645737</td>\n",
       "      <td>1900.0</td>\n",
       "    </tr>\n",
       "    <tr>\n",
       "      <th>537</th>\n",
       "      <td>5651566</td>\n",
       "      <td>1900.0</td>\n",
       "    </tr>\n",
       "    <tr>\n",
       "      <th>538</th>\n",
       "      <td>5662322</td>\n",
       "      <td>1900.0</td>\n",
       "    </tr>\n",
       "    <tr>\n",
       "      <th>539</th>\n",
       "      <td>5681918</td>\n",
       "      <td>1900.0</td>\n",
       "    </tr>\n",
       "    <tr>\n",
       "      <th>540</th>\n",
       "      <td>5740903</td>\n",
       "      <td>1900.0</td>\n",
       "    </tr>\n",
       "  </tbody>\n",
       "</table>\n",
       "<p>541 rows × 2 columns</p>\n",
       "</div>"
      ],
      "text/plain": [
       "          id  revenue\n",
       "0       1627    990.0\n",
       "1       3185    690.0\n",
       "2      25973    690.0\n",
       "3      26280    690.0\n",
       "4     100300    990.0\n",
       "..       ...      ...\n",
       "536  5645737   1900.0\n",
       "537  5651566   1900.0\n",
       "538  5662322   1900.0\n",
       "539  5681918   1900.0\n",
       "540  5740903   1900.0\n",
       "\n",
       "[541 rows x 2 columns]"
      ]
     },
     "execution_count": 5,
     "metadata": {},
     "output_type": "execute_result"
    }
   ],
   "source": [
    "checks=checks.rename(columns=({'student_id':'id','rev':'revenue'}))\n",
    "checks"
   ]
  },
  {
   "cell_type": "code",
   "execution_count": 6,
   "metadata": {},
   "outputs": [
    {
     "data": {
      "text/html": [
       "<div>\n",
       "<style scoped>\n",
       "    .dataframe tbody tr th:only-of-type {\n",
       "        vertical-align: middle;\n",
       "    }\n",
       "\n",
       "    .dataframe tbody tr th {\n",
       "        vertical-align: top;\n",
       "    }\n",
       "\n",
       "    .dataframe thead th {\n",
       "        text-align: right;\n",
       "    }\n",
       "</style>\n",
       "<table border=\"1\" class=\"dataframe\">\n",
       "  <thead>\n",
       "    <tr style=\"text-align: right;\">\n",
       "      <th></th>\n",
       "      <th>id</th>\n",
       "      <th>flag</th>\n",
       "    </tr>\n",
       "  </thead>\n",
       "  <tbody>\n",
       "    <tr>\n",
       "      <th>0</th>\n",
       "      <td>581585</td>\n",
       "      <td>1</td>\n",
       "    </tr>\n",
       "    <tr>\n",
       "      <th>1</th>\n",
       "      <td>5723133</td>\n",
       "      <td>1</td>\n",
       "    </tr>\n",
       "    <tr>\n",
       "      <th>2</th>\n",
       "      <td>3276743</td>\n",
       "      <td>1</td>\n",
       "    </tr>\n",
       "    <tr>\n",
       "      <th>3</th>\n",
       "      <td>4238589</td>\n",
       "      <td>1</td>\n",
       "    </tr>\n",
       "    <tr>\n",
       "      <th>4</th>\n",
       "      <td>4475369</td>\n",
       "      <td>1</td>\n",
       "    </tr>\n",
       "    <tr>\n",
       "      <th>...</th>\n",
       "      <td>...</td>\n",
       "      <td>...</td>\n",
       "    </tr>\n",
       "    <tr>\n",
       "      <th>8336</th>\n",
       "      <td>1794344</td>\n",
       "      <td>1</td>\n",
       "    </tr>\n",
       "    <tr>\n",
       "      <th>8337</th>\n",
       "      <td>296883</td>\n",
       "      <td>1</td>\n",
       "    </tr>\n",
       "    <tr>\n",
       "      <th>8338</th>\n",
       "      <td>3598448</td>\n",
       "      <td>1</td>\n",
       "    </tr>\n",
       "    <tr>\n",
       "      <th>8339</th>\n",
       "      <td>3610547</td>\n",
       "      <td>1</td>\n",
       "    </tr>\n",
       "    <tr>\n",
       "      <th>8340</th>\n",
       "      <td>205705</td>\n",
       "      <td>1</td>\n",
       "    </tr>\n",
       "  </tbody>\n",
       "</table>\n",
       "<p>8341 rows × 2 columns</p>\n",
       "</div>"
      ],
      "text/plain": [
       "           id  flag\n",
       "0      581585     1\n",
       "1     5723133     1\n",
       "2     3276743     1\n",
       "3     4238589     1\n",
       "4     4475369     1\n",
       "...       ...   ...\n",
       "8336  1794344     1\n",
       "8337   296883     1\n",
       "8338  3598448     1\n",
       "8339  3610547     1\n",
       "8340   205705     1\n",
       "\n",
       "[8341 rows x 2 columns]"
      ]
     },
     "execution_count": 6,
     "metadata": {},
     "output_type": "execute_result"
    }
   ],
   "source": [
    "# Переименововаю колонку и добавляю флаг на активных пользователей\n",
    "active_studs = active_studs.rename(columns=({'student_id':'id'}))\n",
    "active_studs['flag'] = 1\n",
    "active_studs"
   ]
  },
  {
   "cell_type": "code",
   "execution_count": 7,
   "metadata": {},
   "outputs": [],
   "source": [
    "full_groups = pd.concat([groups, group_add], ignore_index=True)"
   ]
  },
  {
   "cell_type": "code",
   "execution_count": 8,
   "metadata": {},
   "outputs": [
    {
     "data": {
      "text/html": [
       "<div>\n",
       "<style scoped>\n",
       "    .dataframe tbody tr th:only-of-type {\n",
       "        vertical-align: middle;\n",
       "    }\n",
       "\n",
       "    .dataframe tbody tr th {\n",
       "        vertical-align: top;\n",
       "    }\n",
       "\n",
       "    .dataframe thead th {\n",
       "        text-align: right;\n",
       "    }\n",
       "</style>\n",
       "<table border=\"1\" class=\"dataframe\">\n",
       "  <thead>\n",
       "    <tr style=\"text-align: right;\">\n",
       "      <th></th>\n",
       "      <th>id</th>\n",
       "      <th>grp</th>\n",
       "      <th>flag</th>\n",
       "    </tr>\n",
       "  </thead>\n",
       "  <tbody>\n",
       "    <tr>\n",
       "      <th>0</th>\n",
       "      <td>1489</td>\n",
       "      <td>B</td>\n",
       "      <td>NaN</td>\n",
       "    </tr>\n",
       "    <tr>\n",
       "      <th>1</th>\n",
       "      <td>1627</td>\n",
       "      <td>A</td>\n",
       "      <td>1.0</td>\n",
       "    </tr>\n",
       "    <tr>\n",
       "      <th>2</th>\n",
       "      <td>1768</td>\n",
       "      <td>B</td>\n",
       "      <td>NaN</td>\n",
       "    </tr>\n",
       "    <tr>\n",
       "      <th>3</th>\n",
       "      <td>1783</td>\n",
       "      <td>B</td>\n",
       "      <td>NaN</td>\n",
       "    </tr>\n",
       "    <tr>\n",
       "      <th>4</th>\n",
       "      <td>1794</td>\n",
       "      <td>A</td>\n",
       "      <td>NaN</td>\n",
       "    </tr>\n",
       "    <tr>\n",
       "      <th>...</th>\n",
       "      <td>...</td>\n",
       "      <td>...</td>\n",
       "      <td>...</td>\n",
       "    </tr>\n",
       "    <tr>\n",
       "      <th>74571</th>\n",
       "      <td>200247820</td>\n",
       "      <td>B</td>\n",
       "      <td>NaN</td>\n",
       "    </tr>\n",
       "    <tr>\n",
       "      <th>74572</th>\n",
       "      <td>201032527</td>\n",
       "      <td>B</td>\n",
       "      <td>NaN</td>\n",
       "    </tr>\n",
       "    <tr>\n",
       "      <th>74573</th>\n",
       "      <td>201067612</td>\n",
       "      <td>B</td>\n",
       "      <td>NaN</td>\n",
       "    </tr>\n",
       "    <tr>\n",
       "      <th>74574</th>\n",
       "      <td>201067653</td>\n",
       "      <td>B</td>\n",
       "      <td>NaN</td>\n",
       "    </tr>\n",
       "    <tr>\n",
       "      <th>74575</th>\n",
       "      <td>201067659</td>\n",
       "      <td>B</td>\n",
       "      <td>NaN</td>\n",
       "    </tr>\n",
       "  </tbody>\n",
       "</table>\n",
       "<p>74576 rows × 3 columns</p>\n",
       "</div>"
      ],
      "text/plain": [
       "              id grp  flag\n",
       "0           1489   B   NaN\n",
       "1           1627   A   1.0\n",
       "2           1768   B   NaN\n",
       "3           1783   B   NaN\n",
       "4           1794   A   NaN\n",
       "...          ...  ..   ...\n",
       "74571  200247820   B   NaN\n",
       "74572  201032527   B   NaN\n",
       "74573  201067612   B   NaN\n",
       "74574  201067653   B   NaN\n",
       "74575  201067659   B   NaN\n",
       "\n",
       "[74576 rows x 3 columns]"
      ]
     },
     "execution_count": 8,
     "metadata": {},
     "output_type": "execute_result"
    }
   ],
   "source": [
    "group_active_studs = full_groups.merge(active_studs, on = ['id'], how = 'left')\n",
    "group_active_studs"
   ]
  },
  {
   "cell_type": "code",
   "execution_count": 9,
   "metadata": {},
   "outputs": [
    {
     "data": {
      "text/html": [
       "<div>\n",
       "<style scoped>\n",
       "    .dataframe tbody tr th:only-of-type {\n",
       "        vertical-align: middle;\n",
       "    }\n",
       "\n",
       "    .dataframe tbody tr th {\n",
       "        vertical-align: top;\n",
       "    }\n",
       "\n",
       "    .dataframe thead th {\n",
       "        text-align: right;\n",
       "    }\n",
       "</style>\n",
       "<table border=\"1\" class=\"dataframe\">\n",
       "  <thead>\n",
       "    <tr style=\"text-align: right;\">\n",
       "      <th></th>\n",
       "      <th>id</th>\n",
       "      <th>grp</th>\n",
       "      <th>flag</th>\n",
       "      <th>revenue</th>\n",
       "    </tr>\n",
       "  </thead>\n",
       "  <tbody>\n",
       "    <tr>\n",
       "      <th>0</th>\n",
       "      <td>1489</td>\n",
       "      <td>B</td>\n",
       "      <td>0.0</td>\n",
       "      <td>0.0</td>\n",
       "    </tr>\n",
       "    <tr>\n",
       "      <th>1</th>\n",
       "      <td>1627</td>\n",
       "      <td>A</td>\n",
       "      <td>1.0</td>\n",
       "      <td>990.0</td>\n",
       "    </tr>\n",
       "    <tr>\n",
       "      <th>2</th>\n",
       "      <td>1768</td>\n",
       "      <td>B</td>\n",
       "      <td>0.0</td>\n",
       "      <td>0.0</td>\n",
       "    </tr>\n",
       "    <tr>\n",
       "      <th>3</th>\n",
       "      <td>1783</td>\n",
       "      <td>B</td>\n",
       "      <td>0.0</td>\n",
       "      <td>0.0</td>\n",
       "    </tr>\n",
       "    <tr>\n",
       "      <th>4</th>\n",
       "      <td>1794</td>\n",
       "      <td>A</td>\n",
       "      <td>0.0</td>\n",
       "      <td>0.0</td>\n",
       "    </tr>\n",
       "    <tr>\n",
       "      <th>...</th>\n",
       "      <td>...</td>\n",
       "      <td>...</td>\n",
       "      <td>...</td>\n",
       "      <td>...</td>\n",
       "    </tr>\n",
       "    <tr>\n",
       "      <th>74571</th>\n",
       "      <td>200247820</td>\n",
       "      <td>B</td>\n",
       "      <td>0.0</td>\n",
       "      <td>0.0</td>\n",
       "    </tr>\n",
       "    <tr>\n",
       "      <th>74572</th>\n",
       "      <td>201032527</td>\n",
       "      <td>B</td>\n",
       "      <td>0.0</td>\n",
       "      <td>0.0</td>\n",
       "    </tr>\n",
       "    <tr>\n",
       "      <th>74573</th>\n",
       "      <td>201067612</td>\n",
       "      <td>B</td>\n",
       "      <td>0.0</td>\n",
       "      <td>0.0</td>\n",
       "    </tr>\n",
       "    <tr>\n",
       "      <th>74574</th>\n",
       "      <td>201067653</td>\n",
       "      <td>B</td>\n",
       "      <td>0.0</td>\n",
       "      <td>0.0</td>\n",
       "    </tr>\n",
       "    <tr>\n",
       "      <th>74575</th>\n",
       "      <td>201067659</td>\n",
       "      <td>B</td>\n",
       "      <td>0.0</td>\n",
       "      <td>0.0</td>\n",
       "    </tr>\n",
       "  </tbody>\n",
       "</table>\n",
       "<p>74576 rows × 4 columns</p>\n",
       "</div>"
      ],
      "text/plain": [
       "              id grp  flag  revenue\n",
       "0           1489   B   0.0      0.0\n",
       "1           1627   A   1.0    990.0\n",
       "2           1768   B   0.0      0.0\n",
       "3           1783   B   0.0      0.0\n",
       "4           1794   A   0.0      0.0\n",
       "...          ...  ..   ...      ...\n",
       "74571  200247820   B   0.0      0.0\n",
       "74572  201032527   B   0.0      0.0\n",
       "74573  201067612   B   0.0      0.0\n",
       "74574  201067653   B   0.0      0.0\n",
       "74575  201067659   B   0.0      0.0\n",
       "\n",
       "[74576 rows x 4 columns]"
      ]
     },
     "execution_count": 9,
     "metadata": {},
     "output_type": "execute_result"
    }
   ],
   "source": [
    "checks_group_active_studs=group_active_studs.merge(checks, on ='id', how = 'left').fillna(0)\n",
    "checks_group_active_studs"
   ]
  },
  {
   "cell_type": "code",
   "execution_count": 10,
   "metadata": {},
   "outputs": [
    {
     "data": {
      "text/html": [
       "<div>\n",
       "<style scoped>\n",
       "    .dataframe tbody tr th:only-of-type {\n",
       "        vertical-align: middle;\n",
       "    }\n",
       "\n",
       "    .dataframe tbody tr th {\n",
       "        vertical-align: top;\n",
       "    }\n",
       "\n",
       "    .dataframe thead th {\n",
       "        text-align: right;\n",
       "    }\n",
       "</style>\n",
       "<table border=\"1\" class=\"dataframe\">\n",
       "  <thead>\n",
       "    <tr style=\"text-align: right;\">\n",
       "      <th></th>\n",
       "      <th>id</th>\n",
       "      <th>grp</th>\n",
       "      <th>flag</th>\n",
       "      <th>revenue</th>\n",
       "    </tr>\n",
       "  </thead>\n",
       "  <tbody>\n",
       "    <tr>\n",
       "      <th>39</th>\n",
       "      <td>3185</td>\n",
       "      <td>B</td>\n",
       "      <td>0.0</td>\n",
       "      <td>690.0</td>\n",
       "    </tr>\n",
       "    <tr>\n",
       "      <th>121</th>\n",
       "      <td>25973</td>\n",
       "      <td>B</td>\n",
       "      <td>0.0</td>\n",
       "      <td>690.0</td>\n",
       "    </tr>\n",
       "    <tr>\n",
       "      <th>125</th>\n",
       "      <td>26280</td>\n",
       "      <td>B</td>\n",
       "      <td>0.0</td>\n",
       "      <td>690.0</td>\n",
       "    </tr>\n",
       "    <tr>\n",
       "      <th>223</th>\n",
       "      <td>100645</td>\n",
       "      <td>B</td>\n",
       "      <td>0.0</td>\n",
       "      <td>630.0</td>\n",
       "    </tr>\n",
       "    <tr>\n",
       "      <th>254</th>\n",
       "      <td>102534</td>\n",
       "      <td>B</td>\n",
       "      <td>0.0</td>\n",
       "      <td>580.0</td>\n",
       "    </tr>\n",
       "    <tr>\n",
       "      <th>...</th>\n",
       "      <td>...</td>\n",
       "      <td>...</td>\n",
       "      <td>...</td>\n",
       "      <td>...</td>\n",
       "    </tr>\n",
       "    <tr>\n",
       "      <th>72452</th>\n",
       "      <td>5291900</td>\n",
       "      <td>B</td>\n",
       "      <td>0.0</td>\n",
       "      <td>199.0</td>\n",
       "    </tr>\n",
       "    <tr>\n",
       "      <th>72753</th>\n",
       "      <td>5331842</td>\n",
       "      <td>B</td>\n",
       "      <td>0.0</td>\n",
       "      <td>290.0</td>\n",
       "    </tr>\n",
       "    <tr>\n",
       "      <th>73632</th>\n",
       "      <td>5486319</td>\n",
       "      <td>B</td>\n",
       "      <td>0.0</td>\n",
       "      <td>199.0</td>\n",
       "    </tr>\n",
       "    <tr>\n",
       "      <th>74049</th>\n",
       "      <td>5562806</td>\n",
       "      <td>B</td>\n",
       "      <td>0.0</td>\n",
       "      <td>398.0</td>\n",
       "    </tr>\n",
       "    <tr>\n",
       "      <th>74216</th>\n",
       "      <td>5599663</td>\n",
       "      <td>B</td>\n",
       "      <td>0.0</td>\n",
       "      <td>1900.0</td>\n",
       "    </tr>\n",
       "  </tbody>\n",
       "</table>\n",
       "<p>120 rows × 4 columns</p>\n",
       "</div>"
      ],
      "text/plain": [
       "            id grp  flag  revenue\n",
       "39        3185   B   0.0    690.0\n",
       "121      25973   B   0.0    690.0\n",
       "125      26280   B   0.0    690.0\n",
       "223     100645   B   0.0    630.0\n",
       "254     102534   B   0.0    580.0\n",
       "...        ...  ..   ...      ...\n",
       "72452  5291900   B   0.0    199.0\n",
       "72753  5331842   B   0.0    290.0\n",
       "73632  5486319   B   0.0    199.0\n",
       "74049  5562806   B   0.0    398.0\n",
       "74216  5599663   B   0.0   1900.0\n",
       "\n",
       "[120 rows x 4 columns]"
      ]
     },
     "execution_count": 10,
     "metadata": {},
     "output_type": "execute_result"
    }
   ],
   "source": [
    "checks_group_active_studs.query(\"flag == 0 & revenue > 0 & grp == 'B'\")"
   ]
  },
  {
   "cell_type": "raw",
   "metadata": {},
   "source": [
    "# У нас есть 149 пользователей, которые не активные, но совершили покупку. В дальнейших расчетах я их не буду учитывать."
   ]
  },
  {
   "cell_type": "code",
   "execution_count": 11,
   "metadata": {},
   "outputs": [],
   "source": [
    "df=checks_group_active_studs.query(\"flag == 1\")\n"
   ]
  },
  {
   "cell_type": "code",
   "execution_count": 12,
   "metadata": {},
   "outputs": [
    {
     "data": {
      "text/html": [
       "<div>\n",
       "<style scoped>\n",
       "    .dataframe tbody tr th:only-of-type {\n",
       "        vertical-align: middle;\n",
       "    }\n",
       "\n",
       "    .dataframe tbody tr th {\n",
       "        vertical-align: top;\n",
       "    }\n",
       "\n",
       "    .dataframe thead th {\n",
       "        text-align: right;\n",
       "    }\n",
       "</style>\n",
       "<table border=\"1\" class=\"dataframe\">\n",
       "  <thead>\n",
       "    <tr style=\"text-align: right;\">\n",
       "      <th></th>\n",
       "      <th>grp</th>\n",
       "      <th>count_user</th>\n",
       "      <th>total_revenue</th>\n",
       "    </tr>\n",
       "  </thead>\n",
       "  <tbody>\n",
       "    <tr>\n",
       "      <th>0</th>\n",
       "      <td>A</td>\n",
       "      <td>1538</td>\n",
       "      <td>72820.0000</td>\n",
       "    </tr>\n",
       "    <tr>\n",
       "      <th>1</th>\n",
       "      <td>B</td>\n",
       "      <td>6803</td>\n",
       "      <td>394974.0035</td>\n",
       "    </tr>\n",
       "  </tbody>\n",
       "</table>\n",
       "</div>"
      ],
      "text/plain": [
       "  grp  count_user  total_revenue\n",
       "0   A        1538     72820.0000\n",
       "1   B        6803    394974.0035"
      ]
     },
     "execution_count": 12,
     "metadata": {},
     "output_type": "execute_result"
    }
   ],
   "source": [
    "metric = df.groupby('grp',as_index=False).agg(count_user =('id','nunique'),total_revenue=('revenue','sum'))\n",
    "metric"
   ]
  },
  {
   "cell_type": "code",
   "execution_count": 13,
   "metadata": {},
   "outputs": [
    {
     "data": {
      "text/html": [
       "<div>\n",
       "<style scoped>\n",
       "    .dataframe tbody tr th:only-of-type {\n",
       "        vertical-align: middle;\n",
       "    }\n",
       "\n",
       "    .dataframe tbody tr th {\n",
       "        vertical-align: top;\n",
       "    }\n",
       "\n",
       "    .dataframe thead th {\n",
       "        text-align: right;\n",
       "    }\n",
       "</style>\n",
       "<table border=\"1\" class=\"dataframe\">\n",
       "  <thead>\n",
       "    <tr style=\"text-align: right;\">\n",
       "      <th></th>\n",
       "      <th>paying_users</th>\n",
       "    </tr>\n",
       "    <tr>\n",
       "      <th>grp</th>\n",
       "      <th></th>\n",
       "    </tr>\n",
       "  </thead>\n",
       "  <tbody>\n",
       "    <tr>\n",
       "      <th>A</th>\n",
       "      <td>78</td>\n",
       "    </tr>\n",
       "    <tr>\n",
       "      <th>B</th>\n",
       "      <td>314</td>\n",
       "    </tr>\n",
       "  </tbody>\n",
       "</table>\n",
       "</div>"
      ],
      "text/plain": [
       "     paying_users\n",
       "grp              \n",
       "A              78\n",
       "B             314"
      ]
     },
     "execution_count": 13,
     "metadata": {},
     "output_type": "execute_result"
    }
   ],
   "source": [
    "metric_new = checks_group_active_studs.query(\"flag == 1 and revenue > 0\").groupby('grp')['id'].nunique()\n",
    "metric_new = metric_new.to_frame().rename(columns= {'id':'paying_users'})\n",
    "metric_new"
   ]
  },
  {
   "cell_type": "code",
   "execution_count": 14,
   "metadata": {},
   "outputs": [],
   "source": [
    "metrics= metric.merge(metric_new, on = \"grp\")"
   ]
  },
  {
   "cell_type": "markdown",
   "metadata": {},
   "source": [
    "# Считаю метрики\n",
    "1 Средний чек - Средний чек помогает понять, сколько в среднем тратят клиенты \n",
    "\n",
    "2 Конверсия в платящего пользователя -\n",
    "высокая конверсия в платящих говорит о том, что  продукт хорошо воспринимается\n",
    "пользователями и они готовы платить.\n",
    "\n",
    "3 ARPU  - объединяет в себе информацию о среднем чеке и конверсии в платящих. \n",
    "Он показывает, сколько в среднем приносит каждый пользователь, независимо от того, платит он или нет."
   ]
  },
  {
   "cell_type": "code",
   "execution_count": 15,
   "metadata": {},
   "outputs": [
    {
     "data": {
      "text/html": [
       "<div>\n",
       "<style scoped>\n",
       "    .dataframe tbody tr th:only-of-type {\n",
       "        vertical-align: middle;\n",
       "    }\n",
       "\n",
       "    .dataframe tbody tr th {\n",
       "        vertical-align: top;\n",
       "    }\n",
       "\n",
       "    .dataframe thead th {\n",
       "        text-align: right;\n",
       "    }\n",
       "</style>\n",
       "<table border=\"1\" class=\"dataframe\">\n",
       "  <thead>\n",
       "    <tr style=\"text-align: right;\">\n",
       "      <th></th>\n",
       "      <th>grp</th>\n",
       "      <th>count_user</th>\n",
       "      <th>total_revenue</th>\n",
       "      <th>paying_users</th>\n",
       "      <th>ARPU</th>\n",
       "      <th>average_check</th>\n",
       "      <th>paying_conversion</th>\n",
       "    </tr>\n",
       "  </thead>\n",
       "  <tbody>\n",
       "    <tr>\n",
       "      <th>0</th>\n",
       "      <td>A</td>\n",
       "      <td>1538</td>\n",
       "      <td>72820.0000</td>\n",
       "      <td>78</td>\n",
       "      <td>47.347204</td>\n",
       "      <td>933.589744</td>\n",
       "      <td>0.050715</td>\n",
       "    </tr>\n",
       "    <tr>\n",
       "      <th>1</th>\n",
       "      <td>B</td>\n",
       "      <td>6803</td>\n",
       "      <td>394974.0035</td>\n",
       "      <td>314</td>\n",
       "      <td>58.058798</td>\n",
       "      <td>1257.878992</td>\n",
       "      <td>0.046156</td>\n",
       "    </tr>\n",
       "  </tbody>\n",
       "</table>\n",
       "</div>"
      ],
      "text/plain": [
       "  grp  count_user  total_revenue  paying_users       ARPU  average_check  \\\n",
       "0   A        1538     72820.0000            78  47.347204     933.589744   \n",
       "1   B        6803    394974.0035           314  58.058798    1257.878992   \n",
       "\n",
       "   paying_conversion  \n",
       "0           0.050715  \n",
       "1           0.046156  "
      ]
     },
     "execution_count": 15,
     "metadata": {},
     "output_type": "execute_result"
    }
   ],
   "source": [
    "metrics ['ARPU']= metrics.total_revenue / metrics.count_user\n",
    "metrics['average_check']= metrics.total_revenue / metrics.paying_users\n",
    "metrics['paying_conversion'] =  metrics.paying_users / metrics.count_user\n",
    "metrics"
   ]
  },
  {
   "cell_type": "code",
   "execution_count": null,
   "metadata": {},
   "outputs": [],
   "source": []
  },
  {
   "cell_type": "code",
   "execution_count": 16,
   "metadata": {},
   "outputs": [
    {
     "data": {
      "text/plain": [
       "<matplotlib.axes._subplots.AxesSubplot at 0x7efda15ab0b8>"
      ]
     },
     "execution_count": 16,
     "metadata": {},
     "output_type": "execute_result"
    },
    {
     "data": {
      "image/png": "[encoded data removed]",
      "text/plain": [
       "<Figure size 432x288 with 1 Axes>"
      ]
     },
     "metadata": {
      "needs_background": "light"
     },
     "output_type": "display_data"
    }
   ],
   "source": [
    "sns.barplot(data = df.groupby('grp', as_index = False).id.count()[['grp','id']], x = 'grp', y = 'id')"
   ]
  },
  {
   "cell_type": "raw",
   "metadata": {},
   "source": [
    "На графике видно различия в количестве пользователей, что может говорить о некорректной работе сплитования"
   ]
  },
  {
   "cell_type": "code",
   "execution_count": 17,
   "metadata": {},
   "outputs": [],
   "source": [
    "checks_group_active_stud_new = checks_group_active_studs.query(\"flag == 1\")"
   ]
  },
  {
   "cell_type": "code",
   "execution_count": 18,
   "metadata": {},
   "outputs": [],
   "source": [
    "# активные и платящие пользователи группа A\n",
    "revenue_A = checks_group_active_stud_new[checks_group_active_stud_new['grp'] == 'A']"
   ]
  },
  {
   "cell_type": "code",
   "execution_count": 19,
   "metadata": {},
   "outputs": [],
   "source": [
    "# активные и платящие пользователи группа B\n",
    "revenue_B =checks_group_active_stud_new[checks_group_active_stud_new['grp'] == 'B']"
   ]
  },
  {
   "cell_type": "code",
   "execution_count": 21,
   "metadata": {},
   "outputs": [],
   "source": [
    "gg =checks_group_active_stud_new[['grp','revenue']].set_index('grp')"
   ]
  },
  {
   "cell_type": "code",
   "execution_count": 22,
   "metadata": {},
   "outputs": [
    {
     "data": {
      "text/plain": [
       "<matplotlib.axes._subplots.AxesSubplot at 0x7efd9effc4e0>"
      ]
     },
     "execution_count": 22,
     "metadata": {},
     "output_type": "execute_result"
    },
    {
     "data": {
      "image/png": "[encoded data removed]",
      "text/plain": [
       "<Figure size 1200x600 with 1 Axes>"
      ]
     },
     "metadata": {
      "needs_background": "light"
     },
     "output_type": "display_data"
    }
   ],
   "source": [
    "plt.figure(figsize=(12,6), dpi=100)\n",
    "sns.histplot(data=gg, x='revenue', hue='grp', stat='count', bins=30, kde=True)"
   ]
  },
  {
   "cell_type": "raw",
   "metadata": {},
   "source": [
    "# Данные распределены не нормально, есть выбросы в районе 200 и 2000 в группе B"
   ]
  },
  {
   "cell_type": "code",
   "execution_count": 23,
   "metadata": {},
   "outputs": [
    {
     "name": "stdout",
     "output_type": "stream",
     "text": [
      "t-статистика: 1.501460829433639\n",
      "p-значение: 0.22048133327049665\n",
      "Нет значимой разницы в дисперсиях выручки между группами A и B(Не можем отвергнуть нулевую гипотезу.)\n"
     ]
    }
   ],
   "source": [
    "\n",
    "levene_stat, levene_pvalue = levene(revenue_A['revenue'], revenue_B['revenue'])\n",
    "print(f't-статистика: {levene_stat}')\n",
    "print(f'p-значение: {levene_pvalue}')\n",
    "alpha = 0.05\n",
    "if levene_pvalue < alpha:\n",
    "    print(\"Существует значимая разница в дисперсиях выручки между группами A и B (Отвергаем нулевую гипотезу)\")\n",
    "else:\n",
    "    print(\"Нет значимой разницы в дисперсиях выручки между группами A и B(Не можем отвергнуть нулевую гипотезу.)\")"
   ]
  },
  {
   "cell_type": "code",
   "execution_count": 24,
   "metadata": {},
   "outputs": [
    {
     "name": "stdout",
     "output_type": "stream",
     "text": [
      "t-статистика: -1.2253411073793445\n",
      "p-значение: 0.22048133326988378\n",
      "Нет значимой разницы в выручки между группами A и B(Не можем отвергнуть нулевую гипотезу.\n"
     ]
    }
   ],
   "source": [
    "t_statistic, t_p_value = ttest_ind(revenue_A['revenue'], revenue_B['revenue'], equal_var=True)\n",
    "\n",
    "print(f't-статистика: {t_statistic}')\n",
    "print(f'p-значение: {t_p_value}')\n",
    "if t_p_value < alpha:\n",
    "    print(\"Существует значимая разница в выручке между группами A и B (Отвергаем нулевую гипотезу)\")\n",
    "else:\n",
    "    print(\"Нет значимой разницы в выручке между группами A и B(Не можем отвергнуть нулевую гипотезу.\")"
   ]
  },
  {
   "cell_type": "code",
   "execution_count": 25,
   "metadata": {},
   "outputs": [
    {
     "name": "stdout",
     "output_type": "stream",
     "text": [
      "t-статистика: 3.075681699981606\n",
      "p-значение: 0.08025675761347022\n",
      "Нет значимой разницы в дисперсиях выручки между группами A и B(Не можем отвергнуть нулевую гипотезу.)\n"
     ]
    }
   ],
   "source": [
    "levene_stat, levene_pvalue = levene(revenue_A.query(\"revenue > 0\")['revenue'], revenue_B.query(\"revenue > 0\")['revenue'])\n",
    "print(f't-статистика: {levene_stat}')\n",
    "print(f'p-значение: {levene_pvalue}')\n",
    "alpha = 0.05\n",
    "if levene_pvalue < alpha:\n",
    "    print(\"Существует значимая разница в дисперсиях выручки между группами A и B (Отвергаем нулевую гипотезу)\")\n",
    "else:\n",
    "    print(\"Нет значимой разницы в дисперсиях выручки между группами A и B(Не можем отвергнуть нулевую гипотезу.)\")"
   ]
  },
  {
   "cell_type": "code",
   "execution_count": 26,
   "metadata": {},
   "outputs": [
    {
     "name": "stdout",
     "output_type": "stream",
     "text": [
      "t-статистика: -3.1337795050930985\n",
      "p-значение: 0.0018562025265765867\n",
      "Отвергаем нулевую гипотезу. Существует значимая разница в выручке между группами A и B.\n"
     ]
    }
   ],
   "source": [
    "t_statistic, t_p_value = ttest_ind(revenue_A.query(\"revenue > 0\")['revenue'], revenue_B.query(\"revenue > 0\")['revenue'], equal_var=True)\n",
    "\n",
    "print(f't-статистика: {t_statistic}')\n",
    "print(f'p-значение: {t_p_value}')\n",
    "if t_p_value < alpha:\n",
    "    print(\"Отвергаем нулевую гипотезу. Существует значимая разница в выручке между группами A и B.\")\n",
    "else:\n",
    "    print(\"Не можем отвергнуть нулевую гипотезу. Нет значимой разницы в выручке между группами A и B.\")"
   ]
  },
  {
   "cell_type": "code",
   "execution_count": 27,
   "metadata": {},
   "outputs": [
    {
     "name": "stdout",
     "output_type": "stream",
     "text": [
      "z-статистика: [0.76298845]\n",
      "p-значение: [0.44547028]\n",
      "Нет значимой разницы в конверсиях в оплату между группами A и B(Не можем отвергнуть нулевую гипотезу)\n"
     ]
    }
   ],
   "source": [
    "cr1 = metrics[metrics['grp'] == 'A']['paying_users'] # Конверсия группы A\n",
    "cr2 = metrics[metrics['grp'] == 'B']['paying_users'] # Конверсия группы B\n",
    "n1 = metrics[metrics['grp'] == 'A']['count_user']  # Размер группы A\n",
    "n2 = metrics[metrics['grp'] == 'B']['count_user']  # Размер группы B\n",
    "\n",
    "stat, p_value = proportions_ztest([cr1, cr2], [n1, n2])\n",
    "\n",
    "print(f\"z-статистика: {stat}\")\n",
    "print(f\"p-значение: {p_value}\")\n",
    "\n",
    "alpha = 0.05\n",
    "if p_value < alpha:\n",
    "    print(\"Существует значимая разница в конверсиях в оплату между группами A и B(Отвергаем нулевую гипотезу) \")\n",
    "else:\n",
    "    print(\"Нет значимой разницы в конверсиях в оплату между группами A и B(Не можем отвергнуть нулевую гипотезу)\")"
   ]
  },
  {
   "cell_type": "markdown",
   "metadata": {},
   "source": [
    "# Вывод\n",
    "Изменения механики оплаты статистически значимо повлияли только на одну метрику из трёх — на средний чек, в то время как на CR и ARPU влияние не было статистически значимым.\n",
    "\n",
    "Конверсия в оплату: Новая механика не оказала существенного влияния на конверсию в оплату. Более того, наблюдается незначительное снижение этого показателя. Однако это снижение не является критичным и может быть связано с временным эффектом адаптации пользователей к процессу оплаты.\n",
    "\n",
    "Средний чек: Несмотря на небольшое снижение конверсии, новая механика оплаты повлияла на средний чек и выручку.\n",
    "\n",
    "Рекомендации по внедрению новой механики оплаты.\n",
    "\n",
    "Стоит ли вводить новую механику оплаты или нет, зависит от стратегических целей бизнеса и приоритетов.\n",
    "\n",
    "Если цель — увеличение среднего чека: Новая механика оплаты может быть рекомендована к внедрению, так как средний чек вырос в тестовой группе примерно на 300.\n",
    "\n",
    "Если цель — повышение конверсии: В текущем виде новая механика не демонстрирует улучшений в этой метрике.\n",
    "\n",
    "Новая механика оплаты показала смешанные результаты: незначительное снижение конверсии в сочетании со статистически значимым ростом среднего чека и выручки.\n"
   ]
  },
  {
   "cell_type": "raw",
   "metadata": {},
   "source": []
  },
  {
   "cell_type": "code",
   "execution_count": null,
   "metadata": {},
   "outputs": [],
   "source": []
  },
  {
   "cell_type": "code",
   "execution_count": null,
   "metadata": {},
   "outputs": [],
   "source": []
  }
 ],
 "metadata": {
  "kernelspec": {
   "display_name": "Python 3",
   "language": "python",
   "name": "python3"
  },
  "language_info": {
   "codemirror_mode": {
    "name": "ipython",
    "version": 3
   },
   "file_extension": ".py",
   "mimetype": "text/x-python",
   "name": "python",
   "nbconvert_exporter": "python",
   "pygments_lexer": "ipython3",
   "version": "3.7.3"
  }
 },
 "nbformat": 4,
 "nbformat_minor": 4
}
